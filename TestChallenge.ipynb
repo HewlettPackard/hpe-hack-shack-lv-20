{
 "cells": [
  {
   "cell_type": "markdown",
   "metadata": {},
   "source": [
    "# Welcome to the Test Challenge\n",
    "\n",
    "## Challenge prerequisites\n",
    "\n",
    "We recommend you attend the following Discover Hack Shack workshop(s) before attempting this challenge:\n",
    "\n",
    "1. Git 101\n",
    "\n",
    "Then please follow the following steps to participate\n",
    "\n",
    "## Fork our HPE Discover Challenges Repo\n",
    "\n",
    "We have created a repo with 1 notebook per challenge. Your first mission is to fork our repo into you own Github repo at https://github.com/HewlettPackard/hpe-hack-shack-lv-20. This is done using a web browser.\n",
    "\n",
    "## Clone the repo locally \n",
    "\n",
    "Once you have a copy of the repo in your own GitHub account, you will have to clone a local copy on your computer.\n",
    "\n",
    "## Create a new branch for this challenge\n",
    "\n",
    "We would like you to follow the naming convention. \n",
    "\n",
    "Branch name: YourName/ChallengeName\n",
    "\n",
    "For example: DidierLalli/TestChallenge\n",
    "\n",
    "This is important if you want the jury to accept your submission and identify the winner. Remember there is a winner per challenge, so if you want to participate in more than one challenge make sure you only submit one response at a time.\n",
    "\n",
    "## Upload selected Challenge Notebook in Jupyter\n",
    "\n",
    "In the folder where you have cloned the repo, you will find a series of ipynb files, which are the Jupyter notebooks you are supposed to start from for the challenge. The one used for the Test Challenge is called **TestChallenge.ipynb**.\n",
    "\n",
    "There are 2 options to modify this notebook:\n",
    "\n",
    "### Option 1: Using Jupyter Notebook on your laptop\n",
    "\n",
    "The first option to edit the Jupyter Notebook is to install Jupyter on your machine. You can follow instructions at https://jupyter.org/install to do so. Jupyuter Notebook is open source, but be careful as Python is a prerequisite. Once you have installed Jupyter Notebook on your machine, start it, connect to the specified loacl URL and use `upload` to open the Notebook and start your work.\n",
    "\n",
    "> Remember to `download` your notebook back to the original folder so git catches your changes\n",
    "\n",
    "### Option 2: Using HPE DEV Jupyter Hub with the provided account\n",
    "\n",
    "The other option, if you prefer not to install anything on your computer is to use one of the Jupyter Hub account provided at the Hack Shack. \n",
    "\n",
    "> If you didn't get any account when your registered for the challenge, please contact the Hack Shack staff at: hpedev@hpe.com\n",
    "\n",
    "Once you are logged in to https://notebooks.hpedev.io:8000/, use the upload button (or drag and drop the notebook) to start working.\n",
    "\n",
    "> Remember to `download` your notebook back to the original folder so git catches your changes\n",
    "\n",
    "## Work on your challenge\n",
    "\n",
    "It's time for you to do real work :-)\n"
   ]
  },
  {
   "cell_type": "code",
   "execution_count": null,
   "metadata": {},
   "outputs": [],
   "source": [
    "# This is where you have to write a valid HelloWorld Python program\n",
    "# Use the run button to test your code\n",
    "\n",
    "\n"
   ]
  },
  {
   "cell_type": "markdown",
   "metadata": {},
   "source": [
    "All done? Well done! it's now time to submit your reponse.\n",
    "\n",
    "## Submit your response \n",
    "\n",
    "In order to submit your response to this challenge, we will ask you to leverage GitHub to return the modified version of the Jupyter Notebook.\n",
    "\n",
    "### Commit your changes to Discover Challenges local repo\n",
    "\n",
    "make sure the latest version of your notebook is in the git cloned folder then commit the changes to the local repo. Put a message like \"YourName commit for ChallengeName\"\n",
    "\n",
    "### Push your response as a new branch folllowing the naming convention\n",
    "\n",
    "Then push your change back to your Github account. A new branch should show up in your account with the name: YourName/ChallengeName\n",
    "\n",
    "### From your repo, submit a pull request to HPE Discover Challenges repo\n",
    "\n",
    "It's now time to submit your response back to the HPE Discover Challenges Repo. To do so we ask you to submit a Pull Request (PR) from your GitHub account.\n",
    "\n",
    "## Wait for jury or try another challenge\n",
    "\n",
    "We will select a winner per Challenge. Stay tuned for the announcement. There is also a draw among the ones completing all the challenges, so get back to work!\n",
    "\n",
    "# Congratulations for completing this Challenge!\n"
   ]
  }
 ],
 "metadata": {
  "kernelspec": {
   "display_name": "Python 3",
   "language": "python",
   "name": "python3"
  },
  "language_info": {
   "codemirror_mode": {
    "name": "ipython",
    "version": 3
   },
   "file_extension": ".py",
   "mimetype": "text/x-python",
   "name": "python",
   "nbconvert_exporter": "python",
   "pygments_lexer": "ipython3",
   "version": "3.6.9"
  }
 },
 "nbformat": 4,
 "nbformat_minor": 4
}
