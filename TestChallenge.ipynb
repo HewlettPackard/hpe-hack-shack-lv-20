{
 "cells": [
  {
   "cell_type": "markdown",
   "metadata": {},
   "source": [
    "# Welcome to the Test Challenge\n",
    "\n",
    "## Challenge prerequisites\n",
    "\n",
    "We recommend you attend the following Discover Hack Shack workshop(s) before attempting this challenge:\n",
    "\n",
    "1. Git 101\n",
    "\n",
    "Then please follow the following steps to participate\n",
    "\n",
    "## Fork our HPE Discover Challenges Repo\n",
    "\n",
    "We have created a repo with 1 notebook per challenge. Your first mission is to fork our repo into you own Github repo at https://github.com/HewlettPackard/hpe-hack-shack-lv-20. This is done using a web browser.\n",
    "\n",
    "## Clone the repo locally \n",
    "\n",
    "Once you have a copy of the repo in your own GitHub account, you will have to clone a local copy on your computer.\n",
    "\n",
    "## Upload selected Challenge Notebook in Jupyter\n",
    "\n",
    "In the folder where you have cloned the repo, you will find a series of ipynb files, which are the Jupyter notebooks you are supposed to start from for the challenge. This one is called TestChallenge.ipynb\n",
    "\n",
    "### Using Jupyter on your laptop\n",
    "\n",
    "The first option to edit the Jupyter Notebook is to install Jupyter on your machine. You can follow instructions at https://jupyter.org/install to do so. Note that Python is a prerequisite. Once you have started Jupyter Notebook on your machine, start it and open the Notebook to start your work.\n",
    "\n",
    "### Using Jupyter Hub with the provided account\n",
    "\n",
    "The other option, if you prefer not to install anythin on your computer is to use one of the Jupyter Hub account provided by the Hack Shack. If you didn't get any account when your registered for the challenge, please contact the Hack Shack staff at: hpedev@hpe.com\n",
    "\n",
    "## Work on your challenge\n",
    "\n",
    "It's time for you to to real work :-)\n"
   ]
  },
  {
   "cell_type": "code",
   "execution_count": 2,
   "metadata": {},
   "outputs": [
    {
     "name": "stdout",
     "output_type": "stream",
     "text": [
      "hello Didier!\n"
     ]
    }
   ],
   "source": [
    "# This is where you have to write a valid HelloWorld program\n",
    "# Use the run button to test your code\n",
    "\n",
    "\n",
    "print (\"hello Didier!\")"
   ]
  },
  {
   "cell_type": "markdown",
   "metadata": {},
   "source": [
    "Well done!\n",
    "\n",
    "## Submit your response \n",
    "\n",
    "In order to submit your response to the challenge, we will ask you to leverage GitHub.\n",
    "\n",
    "### Commit your changes to Discover Challenges local repo\n",
    "\n",
    "Make sure you have committed the changes to the local repo\n",
    "\n",
    "### Push your response as a new branch folllowing the naming convention\n",
    "\n",
    "Then  push your change and create a new branch for this code using the following convention (This is important if you want the jury to accept your submission, as this will be used to identify the winner)\n",
    "\n",
    "Branch name: YourName/ChallengeName\n",
    "\n",
    "For example: DidierLalli/TestChallenge\n",
    "\n",
    "### From your repo, submit a pull request to HPE Discover Challenges repo\n",
    "\n",
    "It's now time to submit your response back to the HPE Discover Challenges Repo. To do so we ask you to submit a Pull Request (PR) using that same branch.\n",
    "\n",
    "## Wait for jury or try another challenge\n",
    "\n",
    "We will select a winner per Challenge. Stay tuned for the announcement. There is also a draw among the ones completing all the challenges, so get back to work!\n",
    "\n",
    "# Congratulations for completing this Challenge!\n"
   ]
  }
 ],
 "metadata": {
  "kernelspec": {
   "display_name": "Python 3",
   "language": "python",
   "name": "python3"
  },
  "language_info": {
   "codemirror_mode": {
    "name": "ipython",
    "version": 3
   },
   "file_extension": ".py",
   "mimetype": "text/x-python",
   "name": "python",
   "nbconvert_exporter": "python",
   "pygments_lexer": "ipython3",
   "version": "3.6.9"
  }
 },
 "nbformat": 4,
 "nbformat_minor": 4
}
